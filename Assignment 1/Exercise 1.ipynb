{
 "cells": [
  {
   "cell_type": "code",
   "execution_count": 4,
   "metadata": {},
   "outputs": [],
   "source": [
    "def temp_tester(norm):\n",
    "    def is_healthy(temp):\n",
    "        if(abs(temp-norm)<=1): ## abs gives absolute value\n",
    "            return True\n",
    "        else:\n",
    "            return False\n",
    "    return is_healthy"
   ]
  },
  {
   "cell_type": "code",
   "execution_count": 5,
   "metadata": {},
   "outputs": [],
   "source": [
    "human_tester = temp_tester(37)\n",
    "chicken_tester = temp_tester(41.1)"
   ]
  },
  {
   "cell_type": "code",
   "execution_count": 6,
   "metadata": {},
   "outputs": [
    {
     "name": "stdout",
     "output_type": "stream",
     "text": [
      "True\n",
      "False\n",
      "False\n",
      "False\n",
      "False\n"
     ]
    }
   ],
   "source": [
    "print(chicken_tester(42)) # True -- i.e. not a fever for a chicken\n",
    "print(human_tester(42))   # False -- this would be a severe fever for a human\n",
    "print(chicken_tester(43)) # False\n",
    "print(human_tester(35))  # False -- too low\n",
    "print(human_tester(98.6)) # False -- normal in degrees F but our reference temp was in degrees"
   ]
  },
  {
   "cell_type": "code",
   "execution_count": null,
   "metadata": {},
   "outputs": [],
   "source": []
  }
 ],
 "metadata": {
  "anaconda-cloud": {},
  "kernelspec": {
   "display_name": "Python 3 (ipykernel)",
   "language": "python",
   "name": "python3"
  },
  "language_info": {
   "codemirror_mode": {
    "name": "ipython",
    "version": 3
   },
   "file_extension": ".py",
   "mimetype": "text/x-python",
   "name": "python",
   "nbconvert_exporter": "python",
   "pygments_lexer": "ipython3",
   "version": "3.9.12"
  }
 },
 "nbformat": 4,
 "nbformat_minor": 1
}
