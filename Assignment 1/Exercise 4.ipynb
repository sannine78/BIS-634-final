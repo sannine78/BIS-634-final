{
 "cells": [
  {
   "cell_type": "code",
   "execution_count": 1,
   "id": "c48530d3",
   "metadata": {},
   "outputs": [],
   "source": [
    "# importing element tree\n",
    "import xml.etree.ElementTree as ET \n",
    "\n",
    "# Pass the path of the xml document \n",
    "tree = ET.parse('desc2022.xml') \n",
    "\n",
    "# get the parent tag \n",
    "root = tree.getroot() \n",
    "\n",
    " "
   ]
  },
  {
   "cell_type": "markdown",
   "id": "e9fee22c",
   "metadata": {},
   "source": [
    "## Getting to Know the XML structure"
   ]
  },
  {
   "cell_type": "code",
   "execution_count": 2,
   "id": "b5e3594c",
   "metadata": {},
   "outputs": [
    {
     "data": {
      "text/plain": [
       "'DescriptorRecordSet'"
      ]
     },
     "execution_count": 2,
     "metadata": {},
     "output_type": "execute_result"
    }
   ],
   "source": [
    "root.tag"
   ]
  },
  {
   "cell_type": "code",
   "execution_count": 3,
   "id": "408d7fff",
   "metadata": {},
   "outputs": [
    {
     "data": {
      "text/plain": [
       "{'LanguageCode': 'eng'}"
      ]
     },
     "execution_count": 3,
     "metadata": {},
     "output_type": "execute_result"
    }
   ],
   "source": [
    "root.attrib"
   ]
  },
  {
   "cell_type": "code",
   "execution_count": 4,
   "id": "1ce9b157",
   "metadata": {},
   "outputs": [
    {
     "name": "stdout",
     "output_type": "stream",
     "text": [
      "\n",
      "\n",
      "DescriptorRecord {'DescriptorClass': '1'}\n",
      "\n",
      "\n",
      "DescriptorUI {}\n",
      "DescriptorName {}\n",
      "DateCreated {}\n",
      "DateRevised {}\n",
      "DateEstablished {}\n",
      "AllowableQualifiersList {}\n",
      "HistoryNote {}\n",
      "OnlineNote {}\n",
      "PublicMeSHNote {}\n",
      "PreviousIndexingList {}\n",
      "PharmacologicalActionList {}\n",
      "TreeNumberList {}\n",
      "ConceptList {}\n",
      "\n",
      "\n",
      "DescriptorName:  Calcimycin\n",
      "First item of TreeNumberList:  D03.633.100.221.173\n"
     ]
    }
   ],
   "source": [
    "child=root[0]\n",
    "print('\\n')\n",
    "print(child.tag, child.attrib)\n",
    "print('\\n')\n",
    "\n",
    "\n",
    "for subchild in child:\n",
    "    print(subchild.tag, subchild.attrib)\n",
    "\n",
    "print('\\n')\n",
    "print(f'DescriptorName:  {child[1][0].text}')\n",
    "print(f'First item of TreeNumberList:  {child[11][0].text}')\n"
   ]
  },
  {
   "cell_type": "markdown",
   "id": "6686374a",
   "metadata": {},
   "source": [
    "## Finding the DescriptorName using the DescriptorUI"
   ]
  },
  {
   "cell_type": "code",
   "execution_count": 5,
   "id": "480f8d7b",
   "metadata": {},
   "outputs": [],
   "source": [
    "def find_name_with_ui(ui):\n",
    "    for child in root:## we iterate through all the root's children\n",
    "        if child[0].text == ui: ## we know thanks to our code above that the first element of the child is the DescriptorUI\n",
    "            return child[1][0].text ## we know the second element is the DescriptorName. \n",
    "            ## We have to go one step further in because of the nested String tag\n",
    "    return 'No such DescriptorUI in XML file.'\n",
    "        \n",
    "        "
   ]
  },
  {
   "cell_type": "code",
   "execution_count": 6,
   "id": "01fa9e41",
   "metadata": {},
   "outputs": [
    {
     "name": "stdout",
     "output_type": "stream",
     "text": [
      "Immune System Diseases\n"
     ]
    }
   ],
   "source": [
    "print(find_name_with_ui('D007154'))"
   ]
  },
  {
   "cell_type": "code",
   "execution_count": 46,
   "id": "59ec069f",
   "metadata": {},
   "outputs": [
    {
     "name": "stdout",
     "output_type": "stream",
     "text": [
      "Incontinentia Pigmenti\n",
      "Leigh Disease\n",
      "No such DescriptorUI in XML file.\n"
     ]
    }
   ],
   "source": [
    "print(find_name_with_ui('D007184')) ## testing another ui\n",
    "print(find_name_with_ui('D007888')) ## testing another ui\n",
    "print(find_name_with_ui('D9999999999')) ## testing with erroneous input"
   ]
  },
  {
   "cell_type": "markdown",
   "id": "f42d22ec",
   "metadata": {},
   "source": [
    "## Finding the DescriptorUI using the DescriptorName"
   ]
  },
  {
   "cell_type": "code",
   "execution_count": 8,
   "id": "f3da209d",
   "metadata": {},
   "outputs": [],
   "source": [
    "def find_ui_with_name(name):\n",
    "    for child in root:## we iterate through all the root's children\n",
    "        if child[1][0].text == name: ## we know the second element is the DescriptorName.\n",
    "            return child[0].text   ## we know first element of the child is the DescriptorUI\n",
    "            \n",
    "    return 'No such DescriptorName in XML file.'"
   ]
  },
  {
   "cell_type": "code",
   "execution_count": 9,
   "id": "a451a6af",
   "metadata": {},
   "outputs": [
    {
     "name": "stdout",
     "output_type": "stream",
     "text": [
      "D009422\n"
     ]
    }
   ],
   "source": [
    "print(find_ui_with_name('Nervous System Diseases'))"
   ]
  },
  {
   "cell_type": "code",
   "execution_count": 10,
   "id": "f9a04ce0",
   "metadata": {},
   "outputs": [
    {
     "name": "stdout",
     "output_type": "stream",
     "text": [
      "D007184\n",
      "D000005\n",
      "No such DescriptorName in XML file.\n"
     ]
    }
   ],
   "source": [
    "print(find_ui_with_name('Incontinentia Pigmenti')) ## testing another ui\n",
    "print(find_ui_with_name('Abdomen')) ## testing another ui\n",
    "print(find_ui_with_name('Pop tarts addiction')) ## testing with bogus input"
   ]
  },
  {
   "cell_type": "markdown",
   "id": "5dd1bf3a",
   "metadata": {},
   "source": [
    "## Common parents"
   ]
  },
  {
   "cell_type": "code",
   "execution_count": 47,
   "id": "522b6399",
   "metadata": {},
   "outputs": [],
   "source": [
    "## we first write a function that finds the Treenumber given either a DescriptorName or DescriptorUI.\n",
    "## We only admit one treenumber to simplify\n",
    "\n",
    "def get_treeNumber_with_name_or_ui(heading_or_ui):\n",
    "    ## if need be, we convert the parameter to DescriptorUI format \n",
    "    if not 'D0' in heading_or_ui:  ##all UIs begin with the letter D followed by the number 0\n",
    "        heading_or_ui = find_ui_with_name(heading_or_ui)\n",
    "    for child in root:\n",
    "        if child[0].text == heading_or_ui:\n",
    "            for concept in child.iter('TreeNumberList'):\n",
    "                return concept[0].text\n",
    "    return 'not found'\n"
   ]
  },
  {
   "cell_type": "code",
   "execution_count": 48,
   "id": "0c3e2e98",
   "metadata": {},
   "outputs": [
    {
     "name": "stdout",
     "output_type": "stream",
     "text": [
      "C10\n",
      "C20\n",
      "A01.923.047\n"
     ]
    }
   ],
   "source": [
    "print(get_treeNumber_with_name_or_ui('Nervous System Diseases'))\n",
    "print(get_treeNumber_with_name_or_ui('D007154'))\n",
    "print(get_treeNumber_with_name_or_ui('Abdomen'))\n",
    "\n"
   ]
  },
  {
   "cell_type": "code",
   "execution_count": 53,
   "id": "1d607ffd",
   "metadata": {},
   "outputs": [],
   "source": [
    "def common_parents(parent1, parent2): ## the parents can only be in DescriptorName or DescriptorUI Format\n",
    "    \n",
    "    ## from the Name/UI, get the tree name\n",
    "    parentTree1 = get_treeNumber_with_name_or_ui(parent1) + '.'\n",
    "    parentTree2 = get_treeNumber_with_name_or_ui(parent2) + '.'\n",
    "    \n",
    "    result = set()  ##initializing an empty set\n",
    "\n",
    "    for child in root:\n",
    "        for concept in child.iter('TreeNumberList'): ## only looking at the TreeNumberList of each entry\n",
    "            for treeNumber in concept:   ## iterating through each TreeNumber in that list\n",
    "                if parentTree1 in treeNumber.text:\n",
    "                    for treeNumber in concept:\n",
    "                        if parentTree2 in treeNumber.text:\n",
    "                            result.add(child[1][0].text) ## data structure set prevents duplicates automatically\n",
    "    return result"
   ]
  },
  {
   "cell_type": "code",
   "execution_count": 54,
   "id": "fe1fc3b1",
   "metadata": {},
   "outputs": [
    {
     "name": "stdout",
     "output_type": "stream",
     "text": [
      "{'Polyradiculoneuropathy', 'Mevalonate Kinase Deficiency', 'Autoimmune Diseases of the Nervous System', 'Encephalomyelitis, Acute Disseminated', 'Multiple Sclerosis', 'Stiff-Person Syndrome', 'Diffuse Cerebral Sclerosis of Schilder', 'Miller Fisher Syndrome', 'Polyradiculoneuropathy, Chronic Inflammatory Demyelinating', 'Multiple Sclerosis, Relapsing-Remitting', 'Multiple Sclerosis, Chronic Progressive', 'Microscopic Polyangiitis', 'Anti-N-Methyl-D-Aspartate Receptor Encephalitis', 'AIDS Dementia Complex', 'Leukoencephalitis, Acute Hemorrhagic', 'Ataxia Telangiectasia', 'Myasthenia Gravis', 'Neuromyelitis Optica', 'Lambert-Eaton Myasthenic Syndrome', 'Myasthenia Gravis, Autoimmune, Experimental', 'Myelitis, Transverse', 'Guillain-Barre Syndrome', 'Vasculitis, Central Nervous System', 'Lupus Vasculitis, Central Nervous System', 'Demyelinating Autoimmune Diseases, CNS', 'Autoimmune Hypophysitis', 'Myasthenia Gravis, Neonatal', 'Neuritis, Autoimmune, Experimental', 'Nervous System Autoimmune Disease, Experimental', 'AIDS Arteritis, Central Nervous System', 'Kernicterus', 'Giant Cell Arteritis', 'Uveomeningoencephalitic Syndrome', 'Encephalomyelitis, Autoimmune, Experimental', 'POEMS Syndrome'}\n"
     ]
    }
   ],
   "source": [
    "print(common_parents('Nervous System Diseases', 'D007154'))"
   ]
  },
  {
   "cell_type": "markdown",
   "id": "2b30cb84",
   "metadata": {},
   "source": [
    "The above result lists all the medical conditions which are both Nervous system diseases and Immune System diseases: in short, immune system diseases of the nervous system. For instance the Guillain-Barre Syndrome (GBS) \"is a rare neurological disorder in which the body's immune system mistakenly attacks part of its peripheral nervous system\" (NINDS definition)"
   ]
  },
  {
   "cell_type": "code",
   "execution_count": 55,
   "id": "752569bf",
   "metadata": {},
   "outputs": [
    {
     "name": "stdout",
     "output_type": "stream",
     "text": [
      "{'Heart-Assist Devices', 'Heart, Artificial', 'Urinary Sphincter, Artificial', 'Artificial Limbs', 'Larynx, Artificial'}\n"
     ]
    }
   ],
   "source": [
    "## Testing other input\n",
    "print(common_parents('D001187', 'Prostheses and Implants')) \n",
    "## what are artificial organs (D001187) which are also Prostheses/Implants?"
   ]
  },
  {
   "cell_type": "code",
   "execution_count": null,
   "id": "75722ade",
   "metadata": {},
   "outputs": [],
   "source": []
  }
 ],
 "metadata": {
  "kernelspec": {
   "display_name": "Python 3 (ipykernel)",
   "language": "python",
   "name": "python3"
  },
  "language_info": {
   "codemirror_mode": {
    "name": "ipython",
    "version": 3
   },
   "file_extension": ".py",
   "mimetype": "text/x-python",
   "name": "python",
   "nbconvert_exporter": "python",
   "pygments_lexer": "ipython3",
   "version": "3.9.12"
  }
 },
 "nbformat": 4,
 "nbformat_minor": 5
}
