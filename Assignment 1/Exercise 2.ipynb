{
 "cells": [
  {
   "cell_type": "markdown",
   "id": "89685124",
   "metadata": {},
   "source": [
    "# Setting up our data"
   ]
  },
  {
   "cell_type": "markdown",
   "id": "8e798986",
   "metadata": {},
   "source": [
    "We load the given database into Python as a pandas DataFrame:"
   ]
  },
  {
   "cell_type": "code",
   "execution_count": 10,
   "id": "7521ea4d",
   "metadata": {},
   "outputs": [],
   "source": [
    "import pandas as pd\n",
    "import matplotlib.pyplot as plt\n",
    "import math\n",
    "\n",
    "import sqlite3\n",
    "with sqlite3.connect(\"hw1-population.db\") as db:\n",
    "    data = pd.read_sql_query(\"SELECT * FROM population\", db)"
   ]
  },
  {
   "cell_type": "code",
   "execution_count": 3,
   "id": "fbee749d",
   "metadata": {},
   "outputs": [],
   "source": [
    "df = pd.DataFrame(data)"
   ]
  },
  {
   "cell_type": "code",
   "execution_count": 4,
   "id": "af5325f5",
   "metadata": {},
   "outputs": [
    {
     "data": {
      "text/html": [
       "<div>\n",
       "<style scoped>\n",
       "    .dataframe tbody tr th:only-of-type {\n",
       "        vertical-align: middle;\n",
       "    }\n",
       "\n",
       "    .dataframe tbody tr th {\n",
       "        vertical-align: top;\n",
       "    }\n",
       "\n",
       "    .dataframe thead th {\n",
       "        text-align: right;\n",
       "    }\n",
       "</style>\n",
       "<table border=\"1\" class=\"dataframe\">\n",
       "  <thead>\n",
       "    <tr style=\"text-align: right;\">\n",
       "      <th></th>\n",
       "      <th>name</th>\n",
       "      <th>age</th>\n",
       "      <th>weight</th>\n",
       "      <th>eyecolor</th>\n",
       "    </tr>\n",
       "  </thead>\n",
       "  <tbody>\n",
       "    <tr>\n",
       "      <th>0</th>\n",
       "      <td>Edna Phelps</td>\n",
       "      <td>88.895690</td>\n",
       "      <td>67.122450</td>\n",
       "      <td>brown</td>\n",
       "    </tr>\n",
       "    <tr>\n",
       "      <th>1</th>\n",
       "      <td>Cara Yasso</td>\n",
       "      <td>9.274597</td>\n",
       "      <td>29.251244</td>\n",
       "      <td>brown</td>\n",
       "    </tr>\n",
       "    <tr>\n",
       "      <th>2</th>\n",
       "      <td>Gail Rave</td>\n",
       "      <td>18.345613</td>\n",
       "      <td>55.347903</td>\n",
       "      <td>brown</td>\n",
       "    </tr>\n",
       "    <tr>\n",
       "      <th>3</th>\n",
       "      <td>Richard Adams</td>\n",
       "      <td>16.367545</td>\n",
       "      <td>70.352184</td>\n",
       "      <td>brown</td>\n",
       "    </tr>\n",
       "    <tr>\n",
       "      <th>4</th>\n",
       "      <td>Krista Slater</td>\n",
       "      <td>49.971604</td>\n",
       "      <td>70.563859</td>\n",
       "      <td>brown</td>\n",
       "    </tr>\n",
       "    <tr>\n",
       "      <th>...</th>\n",
       "      <td>...</td>\n",
       "      <td>...</td>\n",
       "      <td>...</td>\n",
       "      <td>...</td>\n",
       "    </tr>\n",
       "    <tr>\n",
       "      <th>152356</th>\n",
       "      <td>John Fowler</td>\n",
       "      <td>23.930833</td>\n",
       "      <td>71.532569</td>\n",
       "      <td>blue</td>\n",
       "    </tr>\n",
       "    <tr>\n",
       "      <th>152357</th>\n",
       "      <td>Diana Shuffler</td>\n",
       "      <td>21.884819</td>\n",
       "      <td>67.936753</td>\n",
       "      <td>brown</td>\n",
       "    </tr>\n",
       "    <tr>\n",
       "      <th>152358</th>\n",
       "      <td>Kevin Cuningham</td>\n",
       "      <td>87.705907</td>\n",
       "      <td>60.074646</td>\n",
       "      <td>brown</td>\n",
       "    </tr>\n",
       "    <tr>\n",
       "      <th>152359</th>\n",
       "      <td>James Libengood</td>\n",
       "      <td>21.727666</td>\n",
       "      <td>81.774985</td>\n",
       "      <td>brown</td>\n",
       "    </tr>\n",
       "    <tr>\n",
       "      <th>152360</th>\n",
       "      <td>Cathleen Ballance</td>\n",
       "      <td>10.062236</td>\n",
       "      <td>34.327767</td>\n",
       "      <td>brown</td>\n",
       "    </tr>\n",
       "  </tbody>\n",
       "</table>\n",
       "<p>152361 rows × 4 columns</p>\n",
       "</div>"
      ],
      "text/plain": [
       "                     name        age     weight eyecolor\n",
       "0             Edna Phelps  88.895690  67.122450    brown\n",
       "1              Cara Yasso   9.274597  29.251244    brown\n",
       "2               Gail Rave  18.345613  55.347903    brown\n",
       "3           Richard Adams  16.367545  70.352184    brown\n",
       "4           Krista Slater  49.971604  70.563859    brown\n",
       "...                   ...        ...        ...      ...\n",
       "152356        John Fowler  23.930833  71.532569     blue\n",
       "152357     Diana Shuffler  21.884819  67.936753    brown\n",
       "152358    Kevin Cuningham  87.705907  60.074646    brown\n",
       "152359    James Libengood  21.727666  81.774985    brown\n",
       "152360  Cathleen Ballance  10.062236  34.327767    brown\n",
       "\n",
       "[152361 rows x 4 columns]"
      ]
     },
     "execution_count": 4,
     "metadata": {},
     "output_type": "execute_result"
    }
   ],
   "source": [
    "df"
   ]
  },
  {
   "cell_type": "markdown",
   "id": "f33939c8",
   "metadata": {},
   "source": [
    "Our data has four columns : name, age, weight, eyecolor (the \"fifth\" column on the very left contains the unique keys of every row/person. Our data has 152361 rows/persons (the count starts at 0 in the table)."
   ]
  },
  {
   "cell_type": "markdown",
   "id": "0a45f8a2",
   "metadata": {},
   "source": [
    "# Distribution of Age"
   ]
  },
  {
   "cell_type": "code",
   "execution_count": 5,
   "id": "cd0d803e",
   "metadata": {},
   "outputs": [
    {
     "name": "stdout",
     "output_type": "stream",
     "text": [
      "Mean age in years: 39.510527927396524\n",
      "Standard deviation in years: 24.152760068601445\n",
      "Minimum age in years: 0.0007476719217636152; in hours that is: 6.459885404037635\n",
      "Maximum age in years: 99.99154733076972\n"
     ]
    }
   ],
   "source": [
    "ages = df.age #treating age as an object property\n",
    "\n",
    "ages_mean = ages.mean()\n",
    "print(f'Mean age in years: {ages_mean}')\n",
    "\n",
    "ages_stdev = ages.std()\n",
    "print(f'Standard deviation in years: {ages_stdev}')\n",
    "\n",
    "ages_min = ages.min()\n",
    "print(f'Minimum age in years: {ages_min}; in hours that is: {ages_min*12*30*24}')\n",
    "\n",
    "ages_max = ages.max()\n",
    "print(f'Maximum age in years: {ages_max}')\n"
   ]
  },
  {
   "cell_type": "markdown",
   "id": "e4c26d7a",
   "metadata": {},
   "source": [
    "To determine the number of bins for a useful histogram, we use a simplified version of Sturge's rule stating that\n",
    "K = 1 + 3.322 log10(N)\n",
    "\n",
    "With K the optimal number of bins and N the size of our dataset and\n",
    "N the size of our dataset (rows)\n"
   ]
  },
  {
   "cell_type": "code",
   "execution_count": 14,
   "id": "20999a2d",
   "metadata": {},
   "outputs": [
    {
     "data": {
      "text/plain": [
       "18.217506811533234"
      ]
     },
     "execution_count": 14,
     "metadata": {},
     "output_type": "execute_result"
    }
   ],
   "source": [
    "1+3.322*math.log10(len(df.index))"
   ]
  },
  {
   "cell_type": "code",
   "execution_count": 17,
   "id": "306e6e85",
   "metadata": {},
   "outputs": [
    {
     "data": {
      "text/plain": [
       "array([[<AxesSubplot:title={'center':'age'}>]], dtype=object)"
      ]
     },
     "execution_count": 17,
     "metadata": {},
     "output_type": "execute_result"
    },
    {
     "data": {
      "image/png": "[encoded data removed]",
      "text/plain": [
       "<Figure size 432x288 with 1 Axes>"
      ]
     },
     "metadata": {
      "needs_background": "light"
     },
     "output_type": "display_data"
    }
   ],
   "source": [
    "df.hist(column='age', bins=18)"
   ]
  },
  {
   "cell_type": "markdown",
   "id": "cc9262e7",
   "metadata": {},
   "source": [
    "This dataset seems to contain mainly people aged 0-65 and five times less seniors (70-100)."
   ]
  },
  {
   "cell_type": "markdown",
   "id": "163a92f9",
   "metadata": {},
   "source": [
    "## Distribution of Weight"
   ]
  },
  {
   "cell_type": "code",
   "execution_count": 7,
   "id": "7ba8799e",
   "metadata": {},
   "outputs": [
    {
     "name": "stdout",
     "output_type": "stream",
     "text": [
      "Mean weight in kg: 60.88413415993031\n",
      "Standard deviation in kg: 18.411824265661494\n",
      "Minimum weight in years: 3.3820836824389326\n",
      "Maximum weight in kg: 100.43579300336947\n"
     ]
    }
   ],
   "source": [
    "weights = df.weight #treating weight as an object property\n",
    "\n",
    "weights_mean = weights.mean()\n",
    "print(f'Mean weight in kg: {weights_mean}')\n",
    "\n",
    "weights_stdev = weights.std()\n",
    "print(f'Standard deviation in kg: {weights_stdev}')\n",
    "\n",
    "weights_min = weights.min()\n",
    "print(f'Minimum weight in years: {weights_min}')\n",
    "\n",
    "weights_max = weights.max()\n",
    "print(f'Maximum weight in kg: {weights_max}')"
   ]
  },
  {
   "cell_type": "code",
   "execution_count": 20,
   "id": "5bf813b6",
   "metadata": {},
   "outputs": [
    {
     "data": {
      "text/plain": [
       "array([[<AxesSubplot:title={'center':'weight'}>]], dtype=object)"
      ]
     },
     "execution_count": 20,
     "metadata": {},
     "output_type": "execute_result"
    },
    {
     "data": {
      "image/png": "[encoded data removed]",
      "text/plain": [
       "<Figure size 432x288 with 1 Axes>"
      ]
     },
     "metadata": {
      "needs_background": "light"
     },
     "output_type": "display_data"
    }
   ],
   "source": [
    "df.hist(column='weight', bins=18)"
   ]
  },
  {
   "cell_type": "markdown",
   "id": "f98774a3",
   "metadata": {},
   "source": [
    "Given that the dataset is composed of a large majority of biologically adult humans, this distribution makes sense, as 70 kg is a \"normal\" adult weight and the long tail to the left is explained by the fact that babies, children and adolescents are also included in the dataset."
   ]
  },
  {
   "cell_type": "markdown",
   "id": "f8be4184",
   "metadata": {},
   "source": [
    "## Weight vs Age"
   ]
  },
  {
   "cell_type": "code",
   "execution_count": 21,
   "id": "cea2b22d",
   "metadata": {},
   "outputs": [
    {
     "data": {
      "image/png": "[encoded data removed]",
      "text/plain": [
       "<Figure size 432x288 with 1 Axes>"
      ]
     },
     "metadata": {
      "needs_background": "light"
     },
     "output_type": "display_data"
    }
   ],
   "source": [
    "weight_vs_age_scatterplot = df.plot(\n",
    "    kind='scatter', #specify type of plot\n",
    "    title= 'Scatterplot of Age vs Weight', #Specify plot title\n",
    "    x='age', #Specify column for x axis\n",
    "    y='weight', #Specify column for x axis\n",
    "    s=1\n",
    "    )"
   ]
  },
  {
   "cell_type": "markdown",
   "id": "55c23db1",
   "metadata": {},
   "source": [
    "The scatterplot reflects the fact that between the ages of 0 and 20 (childhood + adolescence), there is a relationship between weight and age (the older, the heavier). Once an adult, there is no such relationship anymore: people stop growing. \n",
    "There is one clear outlier in this dataset: one person aged about 42y weighs about 20kg. We shall find the name of this patient with the following sql query:"
   ]
  },
  {
   "cell_type": "code",
   "execution_count": 22,
   "id": "54be4e2d",
   "metadata": {},
   "outputs": [],
   "source": [
    "weight_outlier_patient = pd.read_sql_query(\"SELECT name, weight, age FROM population WHERE age>30 AND weight < 30\", db)"
   ]
  },
  {
   "cell_type": "code",
   "execution_count": 23,
   "id": "c78992d3",
   "metadata": {},
   "outputs": [
    {
     "name": "stdout",
     "output_type": "stream",
     "text": [
      "              name  weight   age\n",
      "0  Anthony Freeman    21.7  41.3\n"
     ]
    }
   ],
   "source": [
    "print(weight_outlier_patient)"
   ]
  },
  {
   "cell_type": "markdown",
   "id": "c784352f",
   "metadata": {},
   "source": [
    "The outlier is Anthony Freeman, aged 41.3 years and weighing 21.7kg."
   ]
  },
  {
   "cell_type": "code",
   "execution_count": null,
   "id": "cfa876d5",
   "metadata": {},
   "outputs": [],
   "source": []
  }
 ],
 "metadata": {
  "kernelspec": {
   "display_name": "Python 3 (ipykernel)",
   "language": "python",
   "name": "python3"
  },
  "language_info": {
   "codemirror_mode": {
    "name": "ipython",
    "version": 3
   },
   "file_extension": ".py",
   "mimetype": "text/x-python",
   "name": "python",
   "nbconvert_exporter": "python",
   "pygments_lexer": "ipython3",
   "version": "3.9.12"
  }
 },
 "nbformat": 4,
 "nbformat_minor": 5
}
